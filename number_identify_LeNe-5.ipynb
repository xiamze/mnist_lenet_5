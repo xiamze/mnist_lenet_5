{
 "cells": [
  {
   "cell_type": "markdown",
   "id": "53e56dce",
   "metadata": {},
   "source": [
    "# Hand written number identification by LeNet-5 🔢\n",
    "### Aim: To identify number images by building and running LeNet-5 CNN"
   ]
  },
  {
   "cell_type": "code",
   "execution_count": 1,
   "id": "3de2633c",
   "metadata": {},
   "outputs": [],
   "source": [
    "import torch\n",
    "import torchvision\n",
    "import torchvision.transforms as transforms\n",
    "\n",
    "from torchvision.datasets import MNIST\n",
    "import matplotlib.pyplot as plt"
   ]
  },
  {
   "cell_type": "markdown",
   "id": "d9184113",
   "metadata": {},
   "source": [
    "## 1. Data preparation\n",
    "### Setting NN parameters"
   ]
  },
  {
   "cell_type": "code",
   "execution_count": 2,
   "id": "efa949dc",
   "metadata": {},
   "outputs": [],
   "source": [
    "n_epochs = 5\n",
    "log_interval = 50\n",
    "size = 32\n",
    "learn_rate = 0.06\n",
    "momentum = 0.1\n",
    "\n",
    "# Choose device based on whether GPU is applicable\n",
    "DEVICE = torch.device('cuda' if torch.cuda.is_available() else 'cpu')"
   ]
  },
  {
   "cell_type": "markdown",
   "id": "15f776db",
   "metadata": {},
   "source": [
    "### Loading dataset"
   ]
  },
  {
   "cell_type": "code",
   "execution_count": 3,
   "id": "d7f6ef12",
   "metadata": {},
   "outputs": [
    {
     "name": "stderr",
     "output_type": "stream",
     "text": [
      "/Library/Frameworks/Python.framework/Versions/3.9/lib/python3.9/site-packages/torchvision/datasets/mnist.py:498: UserWarning: The given NumPy array is not writeable, and PyTorch does not support non-writeable tensors. This means you can write to the underlying (supposedly non-writeable) NumPy array using the tensor. You may want to copy the array to protect its data or make it writeable before converting it to a tensor. This type of warning will be suppressed for the rest of this program. (Triggered internally at  ../torch/csrc/utils/tensor_numpy.cpp:180.)\n",
      "  return torch.from_numpy(parsed.astype(m[2], copy=False)).view(*s)\n"
     ]
    }
   ],
   "source": [
    "# Image augmentation by resize/totensor/normalize to prevent overfitting\n",
    "transform = transforms.Compose([transforms.Resize(size), \n",
    "                                transforms.ToTensor(),\n",
    "                               transforms.Normalize((0.5), (0.5))])\n",
    "\n",
    "trainset = MNIST(root='./', train=True, download=True, transform=transform)\n",
    "trainloader = torch.utils.data.DataLoader(trainset, batch_size=64, shuffle=True, num_workers=2)\n",
    "\n",
    "testset = MNIST(root='./', train=False, download=True, transform=transform)\n",
    "testloader = torch.utils.data.DataLoader(testset, batch_size=1000, shuffle=True, num_workers=2)"
   ]
  },
  {
   "cell_type": "markdown",
   "id": "550dd7fd",
   "metadata": {},
   "source": [
    "### Print labels and tensor size to verify"
   ]
  },
  {
   "cell_type": "code",
   "execution_count": 4,
   "id": "f843a6c3",
   "metadata": {},
   "outputs": [
    {
     "name": "stdout",
     "output_type": "stream",
     "text": [
      "tensor([6, 2, 3, 4, 3, 6, 4, 0, 5, 2, 8, 3, 2, 9, 5, 9, 6, 0, 9, 3, 1, 2, 4, 8,\n",
      "        5, 5, 2, 5, 8, 7, 1, 4, 9, 2, 2, 3, 7, 2, 2, 2, 6, 3, 6, 8, 9, 7, 1, 1,\n",
      "        7, 9, 8, 0, 2, 2, 5, 4, 6, 9, 8, 2, 8, 3, 3, 3, 3, 2, 8, 2, 7, 8, 0, 0,\n",
      "        3, 5, 4, 9, 1, 6, 9, 8, 9, 8, 4, 0, 6, 5, 9, 6, 7, 8, 8, 8, 6, 7, 4, 8,\n",
      "        0, 2, 8, 1, 4, 6, 2, 1, 9, 3, 9, 6, 7, 1, 6, 1, 7, 7, 1, 4, 3, 0, 2, 7,\n",
      "        9, 1, 8, 9, 6, 2, 4, 7, 9, 4, 6, 0, 1, 5, 2, 6, 3, 2, 7, 9, 4, 4, 0, 3,\n",
      "        3, 3, 3, 4, 7, 0, 0, 4, 7, 2, 0, 1, 8, 9, 4, 6, 2, 3, 6, 2, 9, 4, 0, 1,\n",
      "        5, 3, 2, 1, 0, 7, 2, 0, 8, 5, 2, 0, 0, 6, 7, 2, 4, 3, 0, 3, 9, 3, 5, 8,\n",
      "        8, 6, 7, 1, 7, 8, 4, 8, 9, 1, 7, 5, 9, 0, 8, 3, 8, 2, 1, 5, 1, 1, 7, 1,\n",
      "        5, 5, 8, 9, 0, 3, 2, 2, 7, 3, 9, 2, 7, 1, 1, 0, 5, 8, 3, 1, 1, 6, 9, 8,\n",
      "        9, 1, 6, 8, 0, 2, 2, 1, 5, 9, 0, 0, 7, 2, 8, 1, 1, 7, 1, 1, 9, 4, 6, 5,\n",
      "        1, 2, 5, 3, 5, 2, 2, 0, 8, 7, 6, 2, 2, 1, 9, 4, 2, 3, 4, 7, 0, 3, 1, 3,\n",
      "        1, 1, 2, 8, 9, 6, 6, 7, 2, 8, 6, 0, 4, 0, 5, 9, 7, 4, 6, 4, 7, 0, 6, 1,\n",
      "        8, 1, 9, 4, 5, 6, 1, 9, 1, 2, 4, 8, 2, 4, 9, 7, 4, 8, 6, 7, 7, 0, 5, 7,\n",
      "        8, 3, 7, 6, 2, 1, 2, 8, 7, 6, 2, 8, 3, 1, 3, 9, 9, 6, 6, 6, 1, 8, 9, 7,\n",
      "        3, 3, 6, 6, 1, 9, 5, 2, 3, 5, 8, 3, 0, 8, 7, 8, 8, 9, 2, 4, 8, 1, 7, 2,\n",
      "        0, 5, 3, 5, 6, 2, 9, 1, 8, 5, 9, 1, 7, 4, 1, 9, 0, 1, 2, 4, 7, 0, 9, 9,\n",
      "        0, 1, 2, 2, 5, 3, 2, 2, 3, 8, 9, 4, 3, 3, 4, 6, 4, 2, 6, 6, 2, 9, 6, 2,\n",
      "        9, 0, 7, 9, 6, 1, 3, 9, 8, 8, 9, 1, 2, 3, 8, 9, 1, 9, 9, 9, 8, 6, 4, 7,\n",
      "        4, 8, 5, 9, 7, 4, 2, 5, 1, 5, 1, 0, 0, 7, 6, 3, 8, 0, 0, 4, 2, 9, 4, 0,\n",
      "        4, 5, 4, 8, 3, 8, 2, 5, 3, 6, 6, 3, 2, 4, 7, 3, 7, 9, 2, 4, 2, 7, 9, 3,\n",
      "        6, 7, 6, 0, 1, 5, 2, 4, 4, 2, 6, 3, 8, 1, 8, 6, 6, 4, 4, 9, 3, 2, 2, 4,\n",
      "        8, 1, 8, 9, 8, 9, 2, 1, 6, 2, 4, 6, 3, 2, 6, 6, 9, 2, 7, 2, 1, 7, 4, 8,\n",
      "        6, 6, 6, 8, 1, 7, 2, 3, 1, 2, 5, 5, 1, 5, 0, 2, 9, 1, 0, 8, 3, 6, 9, 5,\n",
      "        4, 0, 7, 3, 9, 4, 1, 6, 2, 5, 5, 8, 6, 7, 1, 9, 2, 3, 4, 8, 6, 8, 1, 1,\n",
      "        6, 8, 9, 5, 2, 0, 0, 5, 1, 4, 6, 8, 9, 2, 9, 4, 4, 2, 1, 3, 8, 3, 0, 8,\n",
      "        9, 5, 1, 7, 1, 5, 4, 9, 7, 8, 6, 0, 1, 6, 2, 1, 9, 1, 3, 1, 6, 7, 7, 0,\n",
      "        0, 4, 3, 1, 8, 9, 7, 7, 8, 5, 3, 0, 9, 4, 7, 9, 9, 2, 1, 3, 0, 6, 5, 5,\n",
      "        5, 2, 9, 5, 0, 2, 2, 0, 1, 1, 9, 8, 7, 4, 9, 6, 2, 3, 3, 2, 3, 5, 2, 1,\n",
      "        2, 2, 1, 6, 6, 5, 9, 7, 2, 4, 8, 1, 0, 6, 4, 2, 4, 8, 2, 1, 3, 0, 6, 9,\n",
      "        1, 3, 2, 1, 9, 0, 7, 2, 4, 9, 9, 3, 8, 4, 3, 2, 3, 8, 9, 7, 5, 3, 3, 8,\n",
      "        7, 9, 7, 5, 7, 0, 1, 9, 0, 4, 5, 0, 0, 7, 0, 4, 0, 3, 5, 0, 7, 3, 7, 1,\n",
      "        3, 0, 0, 2, 2, 5, 8, 2, 2, 9, 5, 1, 8, 0, 2, 7, 9, 3, 7, 2, 1, 2, 0, 0,\n",
      "        3, 4, 1, 1, 7, 2, 1, 6, 2, 8, 0, 7, 5, 1, 2, 2, 9, 6, 7, 1, 9, 7, 3, 2,\n",
      "        8, 1, 6, 1, 3, 0, 8, 9, 1, 7, 1, 4, 9, 8, 5, 0, 5, 1, 0, 5, 9, 2, 8, 8,\n",
      "        1, 5, 1, 0, 8, 2, 4, 2, 8, 3, 4, 1, 5, 6, 5, 5, 6, 0, 2, 6, 9, 4, 1, 4,\n",
      "        9, 9, 2, 8, 0, 8, 7, 9, 0, 4, 2, 1, 3, 8, 6, 7, 2, 0, 1, 1, 1, 9, 3, 9,\n",
      "        7, 7, 9, 4, 6, 0, 2, 5, 6, 0, 5, 0, 0, 1, 9, 1, 1, 3, 7, 1, 8, 7, 1, 2,\n",
      "        3, 9, 6, 6, 5, 7, 6, 3, 8, 8, 8, 2, 1, 6, 3, 1, 1, 7, 7, 2, 3, 2, 7, 2,\n",
      "        9, 0, 0, 6, 0, 8, 0, 4, 4, 9, 6, 5, 3, 9, 3, 4, 0, 6, 8, 8, 9, 3, 5, 7,\n",
      "        5, 3, 0, 6, 6, 8, 8, 9, 2, 2, 4, 8, 5, 4, 5, 7, 3, 6, 2, 7, 1, 7, 8, 8,\n",
      "        4, 6, 7, 2, 1, 6, 2, 8, 1, 6, 7, 1, 7, 8, 5, 7])\n",
      "torch.Size([1000, 1, 32, 32])\n"
     ]
    }
   ],
   "source": [
    "# Verify a test dataset tensor\n",
    "examples = enumerate(testloader)\n",
    "batch_idx, (example_data, example_targets) = next(examples)\n",
    "print(example_targets)\n",
    "print(example_data.shape)"
   ]
  },
  {
   "cell_type": "markdown",
   "id": "2680096b",
   "metadata": {},
   "source": [
    "### Show some labelled testset"
   ]
  },
  {
   "cell_type": "code",
   "execution_count": 5,
   "id": "811612cb",
   "metadata": {},
   "outputs": [
    {
     "data": {
      "image/png": "[encoded data removed]",
      "text/plain": [
       "<Figure size 432x288 with 6 Axes>"
      ]
     },
     "metadata": {},
     "output_type": "display_data"
    }
   ],
   "source": [
    "fig = plt.figure()\n",
    "for i in range(6):\n",
    "    plt.subplot(2, 3, i+1)\n",
    "    plt.tight_layout()\n",
    "    plt.imshow(example_data[i][0], cmap='gray', interpolation='none')\n",
    "    plt.title(\"Ground truth: {}\".format(example_targets[i]))\n",
    "    plt.xticks([])\n",
    "    plt.yticks([])\n",
    "plt.show()"
   ]
  },
  {
   "cell_type": "markdown",
   "id": "fcb183ba",
   "metadata": {},
   "source": [
    "## 2. Building LeNet-5 NN"
   ]
  },
  {
   "cell_type": "code",
   "execution_count": 6,
   "id": "8cf1b5f1",
   "metadata": {},
   "outputs": [],
   "source": [
    "import torch.nn as nn\n",
    "import torch.nn.functional as F\n",
    "import torch.optim as optim\n",
    "\n",
    "class Net(nn.Module):\n",
    "    def __init__(self):\n",
    "        super(Net, self).__init__()\n",
    "        self.conv1 = nn.Conv2d(1, 6, kernel_size=5, stride=1, padding=0, bias=True)\n",
    "        self.max_pool_1 = nn.MaxPool2d(2)\n",
    "        self.conv2 = nn.Conv2d(6, 16, kernel_size=5, stride=1, padding=0, bias=True)\n",
    "        self.max_pool_2 = nn.MaxPool2d(2)\n",
    "        self.conv3 = nn.Conv2d(16, 120, kernel_size=5, stride=1, padding=0, bias=False)\n",
    "        \n",
    "        self.fc1 = nn.Linear(120, 84)\n",
    "        self.fc2 = nn.Linear(84, 10)\n",
    "    \n",
    "    def forward(self, x):\n",
    "        x = F.relu(self.conv1(x))\n",
    "        x = self.max_pool_1(x)        \n",
    "        x = F.relu(self.conv2(x))\n",
    "        x = self.max_pool_2(x)        \n",
    "        x = F.relu(self.conv3(x))\n",
    "        \n",
    "        x = x.view(-1, 120)\n",
    "        x = F.relu(self.fc1(x))\n",
    "        x = F.relu(self.fc2(x))\n",
    "        \n",
    "        return F.log_softmax(x, dim=1)"
   ]
  },
  {
   "cell_type": "code",
   "execution_count": 7,
   "id": "130c8cc1",
   "metadata": {},
   "outputs": [],
   "source": [
    "network = Net().to(DEVICE)\n",
    "optimizer = optim.SGD(network.parameters(), lr=learn_rate, momentum=momentum)"
   ]
  },
  {
   "cell_type": "code",
   "execution_count": 8,
   "id": "f73dd13d",
   "metadata": {},
   "outputs": [],
   "source": [
    "train_losses = []\n",
    "train_counter = []\n",
    "test_losses = []\n",
    "test_counter = [i*len(trainloader.dataset) for i in range(n_epochs + 1)]\n",
    "test_acc = []"
   ]
  },
  {
   "cell_type": "markdown",
   "id": "d496ce0a",
   "metadata": {},
   "source": [
    "### Define train function"
   ]
  },
  {
   "cell_type": "code",
   "execution_count": 9,
   "id": "e4a953b5",
   "metadata": {},
   "outputs": [],
   "source": [
    "def train(epoch, device):\n",
    "    network.train()\n",
    "    for batch_idx, (data, target) in enumerate(trainloader):\n",
    "        data, target = data.to(device), target.to(device)\n",
    "        optimizer.zero_grad() # Set gradient to zero before BP\n",
    "        output = network(data)\n",
    "        loss = F.nll_loss(output, target)\n",
    "        \n",
    "        loss.backward()\n",
    "        optimizer.step()\n",
    "        if batch_idx % log_interval == 0:\n",
    "            print('Train Epoch: {} [{}/{} ({:.0f}%)]\\tLoss: {:.6f}'.format(\n",
    "            epoch, batch_idx * len(data), len(trainloader.dataset),\n",
    "        100. * batch_idx / len(trainloader), loss.item()))\n",
    "        train_losses.append(loss.item())\n",
    "        train_counter.append((batch_idx*64) + ((epoch-1)*len(trainloader.dataset)))"
   ]
  },
  {
   "cell_type": "markdown",
   "id": "fc42363b",
   "metadata": {},
   "source": [
    "### Define test function"
   ]
  },
  {
   "cell_type": "code",
   "execution_count": 10,
   "id": "6239b143",
   "metadata": {},
   "outputs": [],
   "source": [
    "def test(device):\n",
    "    network.eval()\n",
    "    test_loss = 0\n",
    "    correct = 0\n",
    "    with torch.no_grad(): # ban BP to test\n",
    "        for data, target in testloader:\n",
    "            data, target = data.to(device), target.to(device)\n",
    "            output = network(data)\n",
    "            test_loss += F.nll_loss(output, target, size_average=False).item()\n",
    "            pred = output.data.max(1, keepdim=True)[1]\n",
    "            correct += pred.eq(target.data.view_as(pred)).sum()\n",
    "    test_loss /= len(testloader.dataset)\n",
    "    test_losses.append(test_loss)\n",
    "    print('\\nTest set: Avg. loss: {:.4f}, Accuracy: {}/{} ({:.0f}%)\\n'.format(\n",
    "        test_loss, correct, len(testloader.dataset),\n",
    "        100. * correct / len(testloader.dataset)))\n",
    "    test_acc.append(correct / len(testloader.dataset))"
   ]
  },
  {
   "cell_type": "markdown",
   "id": "4ba79daa",
   "metadata": {},
   "source": [
    "## 3. Training and output\n",
    "#### Only 5 rounds of training set to be done to save time, but more rounds could reach higher accuracy"
   ]
  },
  {
   "cell_type": "code",
   "execution_count": 11,
   "id": "16781b6f",
   "metadata": {},
   "outputs": [
    {
     "name": "stderr",
     "output_type": "stream",
     "text": [
      "/Library/Frameworks/Python.framework/Versions/3.9/lib/python3.9/site-packages/torch/nn/_reduction.py:42: UserWarning: size_average and reduce args will be deprecated, please use reduction='sum' instead.\n",
      "  warnings.warn(warning.format(ret))\n"
     ]
    },
    {
     "name": "stdout",
     "output_type": "stream",
     "text": [
      "\n",
      "Test set: Avg. loss: 2.3043, Accuracy: 958/10000 (10%)\n",
      "\n",
      "Train Epoch: 1 [0/60000 (0%)]\tLoss: 2.292016\n",
      "Train Epoch: 1 [3200/60000 (5%)]\tLoss: 2.260396\n",
      "Train Epoch: 1 [6400/60000 (11%)]\tLoss: 2.033904\n",
      "Train Epoch: 1 [9600/60000 (16%)]\tLoss: 0.969062\n",
      "Train Epoch: 1 [12800/60000 (21%)]\tLoss: 0.480797\n",
      "Train Epoch: 1 [16000/60000 (27%)]\tLoss: 0.630634\n",
      "Train Epoch: 1 [19200/60000 (32%)]\tLoss: 0.597971\n",
      "Train Epoch: 1 [22400/60000 (37%)]\tLoss: 0.299964\n",
      "Train Epoch: 1 [25600/60000 (43%)]\tLoss: 0.682064\n",
      "Train Epoch: 1 [28800/60000 (48%)]\tLoss: 0.713569\n",
      "Train Epoch: 1 [32000/60000 (53%)]\tLoss: 0.472852\n",
      "Train Epoch: 1 [35200/60000 (59%)]\tLoss: 0.287817\n",
      "Train Epoch: 1 [38400/60000 (64%)]\tLoss: 0.379112\n",
      "Train Epoch: 1 [41600/60000 (69%)]\tLoss: 0.253278\n",
      "Train Epoch: 1 [44800/60000 (75%)]\tLoss: 0.463799\n",
      "Train Epoch: 1 [48000/60000 (80%)]\tLoss: 0.396367\n",
      "Train Epoch: 1 [51200/60000 (85%)]\tLoss: 0.364709\n",
      "Train Epoch: 1 [54400/60000 (91%)]\tLoss: 0.258460\n",
      "Train Epoch: 1 [57600/60000 (96%)]\tLoss: 0.259927\n",
      "\n",
      "Test set: Avg. loss: 0.3190, Accuracy: 8780/10000 (88%)\n",
      "\n",
      "Train Epoch: 2 [0/60000 (0%)]\tLoss: 0.483906\n",
      "Train Epoch: 2 [3200/60000 (5%)]\tLoss: 0.555323\n",
      "Train Epoch: 2 [6400/60000 (11%)]\tLoss: 0.596487\n",
      "Train Epoch: 2 [9600/60000 (16%)]\tLoss: 0.244906\n",
      "Train Epoch: 2 [12800/60000 (21%)]\tLoss: 0.375237\n",
      "Train Epoch: 2 [16000/60000 (27%)]\tLoss: 0.426863\n",
      "Train Epoch: 2 [19200/60000 (32%)]\tLoss: 0.074249\n",
      "Train Epoch: 2 [22400/60000 (37%)]\tLoss: 0.261743\n",
      "Train Epoch: 2 [25600/60000 (43%)]\tLoss: 0.303668\n",
      "Train Epoch: 2 [28800/60000 (48%)]\tLoss: 0.343470\n",
      "Train Epoch: 2 [32000/60000 (53%)]\tLoss: 0.204856\n",
      "Train Epoch: 2 [35200/60000 (59%)]\tLoss: 0.400199\n",
      "Train Epoch: 2 [38400/60000 (64%)]\tLoss: 0.354674\n",
      "Train Epoch: 2 [41600/60000 (69%)]\tLoss: 0.357924\n",
      "Train Epoch: 2 [44800/60000 (75%)]\tLoss: 0.189360\n",
      "Train Epoch: 2 [48000/60000 (80%)]\tLoss: 0.503893\n",
      "Train Epoch: 2 [51200/60000 (85%)]\tLoss: 0.462397\n",
      "Train Epoch: 2 [54400/60000 (91%)]\tLoss: 0.404167\n",
      "Train Epoch: 2 [57600/60000 (96%)]\tLoss: 0.289004\n",
      "\n",
      "Test set: Avg. loss: 0.2901, Accuracy: 8856/10000 (89%)\n",
      "\n",
      "Train Epoch: 3 [0/60000 (0%)]\tLoss: 0.290162\n",
      "Train Epoch: 3 [3200/60000 (5%)]\tLoss: 0.273120\n",
      "Train Epoch: 3 [6400/60000 (11%)]\tLoss: 0.291036\n",
      "Train Epoch: 3 [9600/60000 (16%)]\tLoss: 0.245066\n",
      "Train Epoch: 3 [12800/60000 (21%)]\tLoss: 0.230993\n",
      "Train Epoch: 3 [16000/60000 (27%)]\tLoss: 0.234494\n",
      "Train Epoch: 3 [19200/60000 (32%)]\tLoss: 0.039483\n",
      "Train Epoch: 3 [22400/60000 (37%)]\tLoss: 0.284451\n",
      "Train Epoch: 3 [25600/60000 (43%)]\tLoss: 0.052481\n",
      "Train Epoch: 3 [28800/60000 (48%)]\tLoss: 0.038269\n",
      "Train Epoch: 3 [32000/60000 (53%)]\tLoss: 0.049674\n",
      "Train Epoch: 3 [35200/60000 (59%)]\tLoss: 0.030376\n",
      "Train Epoch: 3 [38400/60000 (64%)]\tLoss: 0.048922\n",
      "Train Epoch: 3 [41600/60000 (69%)]\tLoss: 0.109485\n",
      "Train Epoch: 3 [44800/60000 (75%)]\tLoss: 0.014400\n",
      "Train Epoch: 3 [48000/60000 (80%)]\tLoss: 0.175014\n",
      "Train Epoch: 3 [51200/60000 (85%)]\tLoss: 0.061313\n",
      "Train Epoch: 3 [54400/60000 (91%)]\tLoss: 0.074565\n",
      "Train Epoch: 3 [57600/60000 (96%)]\tLoss: 0.055418\n",
      "\n",
      "Test set: Avg. loss: 0.0531, Accuracy: 9822/10000 (98%)\n",
      "\n",
      "Train Epoch: 4 [0/60000 (0%)]\tLoss: 0.014505\n",
      "Train Epoch: 4 [3200/60000 (5%)]\tLoss: 0.011530\n",
      "Train Epoch: 4 [6400/60000 (11%)]\tLoss: 0.056086\n",
      "Train Epoch: 4 [9600/60000 (16%)]\tLoss: 0.006025\n",
      "Train Epoch: 4 [12800/60000 (21%)]\tLoss: 0.014549\n",
      "Train Epoch: 4 [16000/60000 (27%)]\tLoss: 0.241385\n",
      "Train Epoch: 4 [19200/60000 (32%)]\tLoss: 0.003391\n",
      "Train Epoch: 4 [22400/60000 (37%)]\tLoss: 0.043324\n",
      "Train Epoch: 4 [25600/60000 (43%)]\tLoss: 0.009207\n",
      "Train Epoch: 4 [28800/60000 (48%)]\tLoss: 0.129658\n",
      "Train Epoch: 4 [32000/60000 (53%)]\tLoss: 0.104400\n",
      "Train Epoch: 4 [35200/60000 (59%)]\tLoss: 0.009849\n",
      "Train Epoch: 4 [38400/60000 (64%)]\tLoss: 0.020634\n",
      "Train Epoch: 4 [41600/60000 (69%)]\tLoss: 0.033315\n",
      "Train Epoch: 4 [44800/60000 (75%)]\tLoss: 0.049976\n",
      "Train Epoch: 4 [48000/60000 (80%)]\tLoss: 0.017447\n",
      "Train Epoch: 4 [51200/60000 (85%)]\tLoss: 0.022805\n",
      "Train Epoch: 4 [54400/60000 (91%)]\tLoss: 0.056480\n",
      "Train Epoch: 4 [57600/60000 (96%)]\tLoss: 0.085878\n",
      "\n",
      "Test set: Avg. loss: 0.1597, Accuracy: 9548/10000 (95%)\n",
      "\n",
      "Train Epoch: 5 [0/60000 (0%)]\tLoss: 0.020826\n",
      "Train Epoch: 5 [3200/60000 (5%)]\tLoss: 0.008216\n",
      "Train Epoch: 5 [6400/60000 (11%)]\tLoss: 0.019150\n",
      "Train Epoch: 5 [9600/60000 (16%)]\tLoss: 0.020161\n",
      "Train Epoch: 5 [12800/60000 (21%)]\tLoss: 0.018317\n",
      "Train Epoch: 5 [16000/60000 (27%)]\tLoss: 0.016755\n",
      "Train Epoch: 5 [19200/60000 (32%)]\tLoss: 0.010318\n",
      "Train Epoch: 5 [22400/60000 (37%)]\tLoss: 0.007233\n",
      "Train Epoch: 5 [25600/60000 (43%)]\tLoss: 0.028659\n",
      "Train Epoch: 5 [28800/60000 (48%)]\tLoss: 0.004959\n",
      "Train Epoch: 5 [32000/60000 (53%)]\tLoss: 0.005877\n",
      "Train Epoch: 5 [35200/60000 (59%)]\tLoss: 0.042234\n",
      "Train Epoch: 5 [38400/60000 (64%)]\tLoss: 0.012092\n",
      "Train Epoch: 5 [41600/60000 (69%)]\tLoss: 0.021352\n",
      "Train Epoch: 5 [44800/60000 (75%)]\tLoss: 0.005053\n",
      "Train Epoch: 5 [48000/60000 (80%)]\tLoss: 0.024105\n",
      "Train Epoch: 5 [51200/60000 (85%)]\tLoss: 0.046893\n",
      "Train Epoch: 5 [54400/60000 (91%)]\tLoss: 0.026272\n",
      "Train Epoch: 5 [57600/60000 (96%)]\tLoss: 0.006656\n",
      "\n",
      "Test set: Avg. loss: 0.0379, Accuracy: 9870/10000 (99%)\n",
      "\n"
     ]
    }
   ],
   "source": [
    "test(DEVICE)\n",
    "for epoch in range(1, n_epochs + 1):\n",
    "    train(epoch, DEVICE)\n",
    "    test(DEVICE)"
   ]
  },
  {
   "cell_type": "code",
   "execution_count": 12,
   "id": "f6f220ac",
   "metadata": {},
   "outputs": [
    {
     "data": {
      "image/png": "[encoded data removed]",
      "text/plain": [
       "<Figure size 1080x576 with 1 Axes>"
      ]
     },
     "metadata": {
      "needs_background": "light"
     },
     "output_type": "display_data"
    }
   ],
   "source": [
    "fig = plt.figure(figsize=(15, 8))\n",
    "plt.plot(train_counter, train_losses, color='blue')\n",
    "plt.plot(test_counter, test_acc, color='red', linewidth=5)\n",
    "plt.legend(['Train Loss', 'Test Accuracy'], loc='upper right')\n",
    "plt.xlabel('number of training examples seen')\n",
    "plt.ylabel('negative log likelihood loss and test accuarcy')\n",
    "plt.show()"
   ]
  },
  {
   "cell_type": "code",
   "execution_count": 13,
   "id": "d0ca5a9e",
   "metadata": {},
   "outputs": [
    {
     "data": {
      "image/png": "[encoded data removed]",
      "text/plain": [
       "<Figure size 432x288 with 6 Axes>"
      ]
     },
     "metadata": {},
     "output_type": "display_data"
    }
   ],
   "source": [
    "examples = enumerate(testloader)\n",
    "batch_idx, (example_data, example_targets) = next(examples)\n",
    "with torch.no_grad():\n",
    "    example_data, example_targets = example_data.to(DEVICE), example_targets.to(DEVICE)\n",
    "    output = network(example_data)\n",
    "fig = plt.figure()\n",
    "for i in range(6):\n",
    "    plt.subplot(2,3,i+1)\n",
    "    plt.tight_layout()\n",
    "    plt.imshow(example_data[i][0].cpu().clone().numpy(), cmap='gray', interpolation='none')\n",
    "    plt.title(\"Prediction: {}\".format(output.data.max(1, keepdim=True)[1][i].item()))\n",
    "    plt.xticks([])\n",
    "    plt.yticks([])\n",
    "plt.show()"
   ]
  },
  {
   "cell_type": "code",
   "execution_count": null,
   "id": "76d7bd6d",
   "metadata": {},
   "outputs": [],
   "source": []
  }
 ],
 "metadata": {
  "kernelspec": {
   "display_name": "Python 3 (ipykernel)",
   "language": "python",
   "name": "python3"
  },
  "language_info": {
   "codemirror_mode": {
    "name": "ipython",
    "version": 3
   },
   "file_extension": ".py",
   "mimetype": "text/x-python",
   "name": "python",
   "nbconvert_exporter": "python",
   "pygments_lexer": "ipython3",
   "version": "3.9.7"
  }
 },
 "nbformat": 4,
 "nbformat_minor": 5
}
